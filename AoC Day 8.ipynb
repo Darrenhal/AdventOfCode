{
 "cells": [
  {
   "cell_type": "code",
   "execution_count": 15,
   "metadata": {},
   "outputs": [],
   "source": [
    "### DATA PROCESSING ###\n",
    "\n",
    "# with open ('puzzle_inputs/puzzle_input_6.txt') as file:\n",
    "#     read_data = file.read()\n",
    "\n",
    "with open ('puzzle_inputs/puzzle_input_8.txt') as file:\n",
    "    read_data = file.read()\n",
    "\n",
    "line_data = read_data.splitlines()\n",
    "\n",
    "op = []\n",
    "param = []\n",
    "\n",
    "for line in line_data:\n",
    "    temp = line.split(\" \")\n",
    "    op.append(temp[0])\n",
    "    param.append(int(temp[1]))\n"
   ]
  },
  {
   "cell_type": "code",
   "execution_count": 22,
   "metadata": {},
   "outputs": [
    {
     "data": {
      "text/plain": [
       "1930"
      ]
     },
     "execution_count": 22,
     "metadata": {},
     "output_type": "execute_result"
    }
   ],
   "source": [
    "### Puzzle #1 ###\n",
    "\n",
    "i = 0\n",
    "acc = 0\n",
    "\n",
    "executed_lines = []\n",
    "\n",
    "no_loopback = True\n",
    "\n",
    "while no_loopback:\n",
    "    operation = op[i]\n",
    "    if i in executed_lines:\n",
    "        no_loopback = False\n",
    "        continue\n",
    "    executed_lines.append(i)\n",
    "    if operation == \"acc\":\n",
    "        acc += param[i]\n",
    "        i += 1\n",
    "    elif operation == \"jmp\":\n",
    "        i += param[i]\n",
    "    elif operation == \"nop\":\n",
    "        i += 1\n",
    "\n",
    "acc"
   ]
  },
  {
   "cell_type": "code",
   "execution_count": 60,
   "metadata": {},
   "outputs": [
    {
     "data": {
      "text/plain": [
       "1688"
      ]
     },
     "execution_count": 60,
     "metadata": {},
     "output_type": "execute_result"
    }
   ],
   "source": [
    "### Puzzle #1 ###\n",
    "\n",
    "c = 0\n",
    "acc = 0\n",
    "\n",
    "executed_lines = []\n",
    "\n",
    "no_loopback = True\n",
    "eof = False\n",
    "\n",
    "\n",
    "for i in range(len(op)):\n",
    "    temp_op = []\n",
    "    c = 0\n",
    "    acc = 0\n",
    "    executed_lines = []\n",
    "    no_loopback = True\n",
    "    for e in op:\n",
    "        temp_op.append(e)\n",
    "    if op[i] == \"jmp\":\n",
    "        temp_op[i] = \"nop\"\n",
    "    elif op[i] == \"nop\":\n",
    "        temp_op[i] = \"jmp\"\n",
    "    while no_loopback and c != (len(op) - 1):\n",
    "        operation = temp_op[c]\n",
    "        if c in executed_lines:\n",
    "            no_loopback = False\n",
    "            continue\n",
    "        executed_lines.append(c)\n",
    "        if operation == \"acc\":\n",
    "            acc += param[c]\n",
    "            c += 1\n",
    "        elif operation == \"jmp\":\n",
    "            c += param[c]\n",
    "        elif operation == \"nop\":\n",
    "            c += 1\n",
    "    if c == (len(op) - 1):\n",
    "        eof = True\n",
    "        break\n",
    "\n",
    "acc"
   ]
  }
 ],
 "metadata": {
  "kernelspec": {
   "display_name": "Python 3",
   "language": "python",
   "name": "python3"
  },
  "language_info": {
   "codemirror_mode": {
    "name": "ipython",
    "version": 3
   },
   "file_extension": ".py",
   "mimetype": "text/x-python",
   "name": "python",
   "nbconvert_exporter": "python",
   "pygments_lexer": "ipython3",
   "version": "3.7.5"
  }
 },
 "nbformat": 4,
 "nbformat_minor": 2
}
