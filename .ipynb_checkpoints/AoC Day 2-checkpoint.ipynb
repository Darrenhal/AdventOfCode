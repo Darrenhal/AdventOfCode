{
 "cells": [
  {
   "cell_type": "code",
   "execution_count": 67,
   "metadata": {},
   "outputs": [],
   "source": [
    "### DATA PROCESSING ###\n",
    "\n",
    "with open ('puzzle_inputs/puzzle_input_2.txt') as file:\n",
    "    read_data = file.read()\n",
    "\n",
    "line_data = read_data.splitlines()\n",
    "lines = []\n",
    "\n",
    "for line in line_data:\n",
    "    lines.append(line.replace(\":\", \"\").split())\n"
   ]
  },
  {
   "cell_type": "code",
   "execution_count": 81,
   "metadata": {},
   "outputs": [
    {
     "name": "stdout",
     "output_type": "stream",
     "text": [
      "550\n"
     ]
    }
   ],
   "source": [
    "### Puzzle #1 ###\n",
    "\n",
    "quantity = []\n",
    "policy = []\n",
    "value = []\n",
    "\n",
    "for i in range(len(lines)):\n",
    "    lower_bound = int(lines[i][0].split(\"-\")[0])\n",
    "    upper_bound = int(lines[i][0].split(\"-\")[1])\n",
    "    quantity.append([lower_bound, upper_bound])\n",
    "    \n",
    "for i in range(len(lines)):\n",
    "    policy.append(lines[i][1])\n",
    "\n",
    "for i in range(len(lines)):\n",
    "    value.append(lines[i][2])\n",
    "\n",
    "valid_pws = 0\n",
    "for i in range(len(lines)):\n",
    "    occurences = value[i].count(policy[i])\n",
    "    if(occurences >= quantity[i][0] and occurences <= quantity[i][1] ):\n",
    "        valid_pws += 1\n",
    "\n",
    "print(valid_pws)"
   ]
  },
  {
   "cell_type": "code",
   "execution_count": 96,
   "metadata": {},
   "outputs": [
    {
     "name": "stdout",
     "output_type": "stream",
     "text": [
      "634\n"
     ]
    }
   ],
   "source": [
    "### Puzzle #2 ###\n",
    "\n",
    "quantity = []\n",
    "policy = []\n",
    "value = []\n",
    "\n",
    "for i in range(len(lines)):\n",
    "    lower_bound = int(lines[i][0].split(\"-\")[0])\n",
    "    upper_bound = int(lines[i][0].split(\"-\")[1])\n",
    "    quantity.append([lower_bound, upper_bound])\n",
    "    \n",
    "for i in range(len(lines)):\n",
    "    policy.append(lines[i][1])\n",
    "\n",
    "for i in range(len(lines)):\n",
    "    value.append(lines[i][2])\n",
    "\n",
    "valid_pws = 0\n",
    "for i in range(len(lines)):\n",
    "    if((value[i][quantity[i][0] - 1] == policy[i]) ^ (value[i][quantity[i][1]-1] == policy[i])):\n",
    "        valid_pws += 1\n",
    "\n",
    "print(valid_pws)"
   ]
  }
 ],
 "metadata": {
  "kernelspec": {
   "display_name": "Python 3",
   "language": "python",
   "name": "python3"
  },
  "language_info": {
   "codemirror_mode": {
    "name": "ipython",
    "version": 3
   },
   "file_extension": ".py",
   "mimetype": "text/x-python",
   "name": "python",
   "nbconvert_exporter": "python",
   "pygments_lexer": "ipython3",
   "version": "3.7.3"
  }
 },
 "nbformat": 4,
 "nbformat_minor": 2
}
