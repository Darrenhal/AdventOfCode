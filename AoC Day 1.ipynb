{
 "cells": [
  {
   "cell_type": "code",
   "execution_count": 32,
   "metadata": {},
   "outputs": [],
   "source": [
    "### DATA PROCESSING ###\n",
    "\n",
    "with open ('puzzle_inputs/puzzle_input_1.txt') as file:\n",
    "    read_data = file.read()\n",
    "\n",
    "proc_data = read_data.split(\"\\n\")"
   ]
  },
  {
   "cell_type": "code",
   "execution_count": 33,
   "metadata": {},
   "outputs": [
    {
     "name": "stdout",
     "output_type": "stream",
     "text": [
      "838624 584 1436\n"
     ]
    }
   ],
   "source": [
    "### Puzzle #1 ###\n",
    "\n",
    "result = 0\n",
    "\n",
    "for index1, value1 in enumerate(proc_data):\n",
    "    for index2, value2 in enumerate(proc_data):\n",
    "        if (int(value1) + int(value2) == 2020 and index1 != index2):\n",
    "            result = int(value1) * int(value2)\n",
    "            values = [value1, value2]\n",
    "\n",
    "print(str(result) + \" \" + str(values[0]) + \" \" + str(values[1]))"
   ]
  },
  {
   "cell_type": "code",
   "execution_count": 34,
   "metadata": {},
   "outputs": [
    {
     "name": "stdout",
     "output_type": "stream",
     "text": [
      "52764180 1644 131 245\n"
     ]
    }
   ],
   "source": [
    "### Puzzle #2 ###\n",
    "\n",
    "result = 0\n",
    "\n",
    "for index1, value1 in enumerate(proc_data):\n",
    "    for index2, value2 in enumerate(proc_data):\n",
    "        for index3, value3 in enumerate(proc_data):\n",
    "            if (int(value1) + int(value2) + int(value3) == 2020 and index1 != index2 and index1 != index3):\n",
    "                result = int(value1) * int(value2) * int(value3)\n",
    "                values = [value1, value2, value3]\n",
    "\n",
    "print(str(result) + \" \" + str(values[0]) + \" \" + str(values[1]) + \" \" + str(values[2]) )"
   ]
  },
  {
   "cell_type": "code",
   "execution_count": null,
   "metadata": {},
   "outputs": [],
   "source": []
  }
 ],
 "metadata": {
  "kernelspec": {
   "display_name": "Python 3",
   "language": "python",
   "name": "python3"
  },
  "language_info": {
   "codemirror_mode": {
    "name": "ipython",
    "version": 3
   },
   "file_extension": ".py",
   "mimetype": "text/x-python",
   "name": "python",
   "nbconvert_exporter": "python",
   "pygments_lexer": "ipython3",
   "version": "3.7.3"
  }
 },
 "nbformat": 4,
 "nbformat_minor": 2
}
