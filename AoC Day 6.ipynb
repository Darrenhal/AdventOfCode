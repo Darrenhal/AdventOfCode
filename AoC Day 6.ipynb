{
 "cells": [
  {
   "cell_type": "code",
   "execution_count": 49,
   "metadata": {},
   "outputs": [],
   "source": [
    "### DATA PROCESSING ###\n",
    "\n",
    "# with open ('puzzle_inputs/puzzle_input_6.txt') as file:\n",
    "#     read_data = file.read()\n",
    "\n",
    "with open ('puzzle_inputs/puzzle_input_6.txt') as file:\n",
    "    read_data = file.read()\n",
    "\n",
    "proc_data = read_data.split(\"\\n\\n\")\n"
   ]
  },
  {
   "cell_type": "code",
   "execution_count": 50,
   "metadata": {},
   "outputs": [
    {
     "data": {
      "text/plain": [
       "6714"
      ]
     },
     "execution_count": 50,
     "metadata": {},
     "output_type": "execute_result"
    }
   ],
   "source": [
    "### Puzzle #1 ###\n",
    "\n",
    "clean_data = []\n",
    "\n",
    "for data in proc_data:\n",
    "    clean_data.append(data.replace(\"\\n\", \"\"))\n",
    "\n",
    "group_answers = []\n",
    "\n",
    "for line in clean_data:\n",
    "    group_answers.append(\"\".join(set(line)))\n",
    "\n",
    "answer_count = 0\n",
    "for group in group_answers:\n",
    "    answer_count += len(group)\n",
    "\n",
    "answer_count"
   ]
  },
  {
   "cell_type": "code",
   "execution_count": 51,
   "metadata": {},
   "outputs": [
    {
     "data": {
      "text/plain": [
       "3435"
      ]
     },
     "execution_count": 51,
     "metadata": {},
     "output_type": "execute_result"
    }
   ],
   "source": [
    "### Puzzle #2 ###\n",
    "\n",
    "clean_data = []\n",
    "\n",
    "for data in proc_data:\n",
    "    clean_data.append(data.split(\"\\n\"))\n",
    "\n",
    "clean_data\n",
    "\n",
    "shared_answers = 0\n",
    "\n",
    "for group in clean_data:\n",
    "    proof = group[0]\n",
    "    for i in range(len(proof)):\n",
    "        c = 0\n",
    "        for answer in group:\n",
    "            if proof[i] in answer:\n",
    "                c += 1\n",
    "        if c == len(group):\n",
    "            shared_answers += 1\n",
    "\n",
    "shared_answers"
   ]
  }
 ],
 "metadata": {
  "kernelspec": {
   "display_name": "Python 3",
   "language": "python",
   "name": "python3"
  },
  "language_info": {
   "codemirror_mode": {
    "name": "ipython",
    "version": 3
   },
   "file_extension": ".py",
   "mimetype": "text/x-python",
   "name": "python",
   "nbconvert_exporter": "python",
   "pygments_lexer": "ipython3",
   "version": "3.7.5"
  }
 },
 "nbformat": 4,
 "nbformat_minor": 2
}
