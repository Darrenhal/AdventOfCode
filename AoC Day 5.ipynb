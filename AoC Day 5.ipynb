{
 "cells": [
  {
   "cell_type": "code",
   "execution_count": 87,
   "metadata": {},
   "outputs": [],
   "source": [
    "### DATA PROCESSING ###\n",
    "\n",
    "with open ('puzzle_inputs/puzzle_input_5.txt') as file:\n",
    "    read_data = file.read()\n",
    "\n",
    "proc_data = read_data.splitlines()\n"
   ]
  },
  {
   "cell_type": "code",
   "execution_count": 104,
   "metadata": {},
   "outputs": [
    {
     "name": "stdout",
     "output_type": "stream",
     "text": [
      "818\n"
     ]
    }
   ],
   "source": [
    "### Puzzle #1 ###\n",
    "\n",
    "row_data, col_data = [], []\n",
    "\n",
    "for line in proc_data:\n",
    "    row_data.append(line[:7])\n",
    "    col_data.append(line[7:])\n",
    "    \n",
    "low_row = \"F\"\n",
    "high_row = \"B\"\n",
    "low_col = \"L\"\n",
    "high_col = \"R\"\n",
    "\n",
    "rows = []\n",
    "cols = []\n",
    "\n",
    "for row in row_data:\n",
    "    row_range = list(range(0, 128))\n",
    "    for i in range(len(row)):\n",
    "        if row[i] == low_row:\n",
    "            row_range = row_range[:(int)(len(row_range)/2)]\n",
    "        else:\n",
    "            row_range = row_range[(int)(len(row_range)/2):]\n",
    "        if i == len(row) - 1:\n",
    "            rows.append(row_range[0])\n",
    "\n",
    "for col in col_data:\n",
    "    col_range = list(range(0, 8))\n",
    "    for i in range(len(col)):\n",
    "        if col[i] == low_col:\n",
    "            col_range = col_range[:(int)(len(col_range)/2)]\n",
    "        else:\n",
    "            col_range = col_range[(int)(len(col_range)/2):]\n",
    "        if i == len(col) - 1:\n",
    "            cols.append(col_range[0])\n",
    "\n",
    "seat_id = []\n",
    "for i in range(len(proc_data)):\n",
    "    seat_id.append(rows[i] * 8 + cols[i])\n",
    "\n",
    "max_seat_id = 0\n",
    "\n",
    "for value in seat_id:\n",
    "    if value > max_seat_id:\n",
    "        max_seat_id = value\n",
    "\n",
    "print(max_seat_id)"
   ]
  },
  {
   "cell_type": "code",
   "execution_count": 103,
   "metadata": {},
   "outputs": [
    {
     "name": "stdout",
     "output_type": "stream",
     "text": [
      "559\n"
     ]
    }
   ],
   "source": [
    "### Puzzle #2 ###\n",
    "\n",
    "all_seat_ids = []\n",
    "for i in range(max_seat_id):\n",
    "    all_seat_ids.append(i)\n",
    "    \n",
    "all_seat_ids\n",
    "missing_seats = []\n",
    "\n",
    "for value in all_seat_ids:\n",
    "    if not(value in seat_id):\n",
    "        missing_seats.append(value)\n",
    "        if not(missing_seats[missing_seats.index(value) - 1] == value - 1):\n",
    "            result = value\n",
    "\n",
    "print(result)"
   ]
  }
 ],
 "metadata": {
  "kernelspec": {
   "display_name": "Python 3",
   "language": "python",
   "name": "python3"
  },
  "language_info": {
   "codemirror_mode": {
    "name": "ipython",
    "version": 3
   },
   "file_extension": ".py",
   "mimetype": "text/x-python",
   "name": "python",
   "nbconvert_exporter": "python",
   "pygments_lexer": "ipython3",
   "version": "3.7.5"
  }
 },
 "nbformat": 4,
 "nbformat_minor": 2
}
