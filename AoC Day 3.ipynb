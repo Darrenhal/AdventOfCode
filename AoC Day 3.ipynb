{
 "cells": [
  {
   "cell_type": "code",
   "execution_count": 42,
   "metadata": {},
   "outputs": [],
   "source": [
    "### DATA PROCESSING ###\n",
    "\n",
    "with open ('puzzle_inputs/puzzle_input_3.txt') as file:\n",
    "    read_data = file.read()\n",
    "\n",
    "proc_data = read_data.splitlines()\n"
   ]
  },
  {
   "cell_type": "code",
   "execution_count": 43,
   "metadata": {},
   "outputs": [
    {
     "data": {
      "text/plain": [
       "268"
      ]
     },
     "execution_count": 43,
     "metadata": {},
     "output_type": "execute_result"
    }
   ],
   "source": [
    "### Puzzle #1 ###\n",
    "\n",
    "tree = '#'\n",
    "empty_space = '.'\n",
    "tree_count = 0\n",
    "\n",
    "x = 0\n",
    "y = 0\n",
    "slope_x = 3\n",
    "slope_y = 1\n",
    "\n",
    "len(proc_data[0])\n",
    "\n",
    "while y < len(proc_data):\n",
    "    if proc_data[y][x] == tree:\n",
    "        tree_count += 1\n",
    "    if (x + slope_x) > (len(proc_data[0]) - 1):\n",
    "        x = slope_x - (len(proc_data[0]) - x)\n",
    "    else:\n",
    "        x += slope_x\n",
    "    y += slope_y\n",
    "\n",
    "tree_count\n"
   ]
  },
  {
   "cell_type": "code",
   "execution_count": 44,
   "metadata": {},
   "outputs": [
    {
     "name": "stdout",
     "output_type": "stream",
     "text": [
      "Trees for 1|1 68\n",
      "Trees for 5|1 73\n",
      "Trees for 7|1 75\n",
      "Trees for 1|2 31\n"
     ]
    },
    {
     "data": {
      "text/plain": [
       "3093068400"
      ]
     },
     "execution_count": 44,
     "metadata": {},
     "output_type": "execute_result"
    }
   ],
   "source": [
    "### Puzzle #2 ###\n",
    "\n",
    "tree = '#'\n",
    "empty_space = '.'\n",
    "\n",
    "### slopes: x = 1, y = 1 ###\n",
    "\n",
    "tree_count1 = 0\n",
    "\n",
    "x = 0\n",
    "y = 0\n",
    "slope_x = 1\n",
    "slope_y = 1\n",
    "\n",
    "len(proc_data[0])\n",
    "\n",
    "while y < len(proc_data):\n",
    "    if proc_data[y][x] == tree:\n",
    "        tree_count1 += 1\n",
    "    if (x + slope_x) > (len(proc_data[0]) - 1):\n",
    "        x = slope_x - (len(proc_data[0]) - x)\n",
    "    else:\n",
    "        x += slope_x\n",
    "    y += slope_y\n",
    "\n",
    "print(\"Trees for 1|1 \" + str(tree_count1))\n",
    "\n",
    "### slopes: x = 5, y = 1 ###\n",
    "\n",
    "tree_count2 = 0\n",
    "\n",
    "x = 0\n",
    "y = 0\n",
    "slope_x = 5\n",
    "slope_y = 1\n",
    "\n",
    "len(proc_data[0])\n",
    "\n",
    "while y < len(proc_data):\n",
    "    if proc_data[y][x] == tree:\n",
    "        tree_count2 += 1\n",
    "    if (x + slope_x) > (len(proc_data[0]) - 1):\n",
    "        x = slope_x - (len(proc_data[0]) - x)\n",
    "    else:\n",
    "        x += slope_x\n",
    "    y += slope_y\n",
    "\n",
    "print(\"Trees for 5|1 \" + str(tree_count2))\n",
    "\n",
    "### slopes: x = 7, y = 1 ###\n",
    "\n",
    "tree_count3 = 0\n",
    "\n",
    "x = 0\n",
    "y = 0\n",
    "slope_x = 7\n",
    "slope_y = 1\n",
    "\n",
    "len(proc_data[0])\n",
    "\n",
    "while y < len(proc_data):\n",
    "    if proc_data[y][x] == tree:\n",
    "        tree_count3 += 1\n",
    "    if (x + slope_x) > (len(proc_data[0]) - 1):\n",
    "        x = slope_x - (len(proc_data[0]) - x)\n",
    "    else:\n",
    "        x += slope_x\n",
    "    y += slope_y\n",
    "\n",
    "print(\"Trees for 7|1 \" + str(tree_count3))\n",
    "\n",
    "### slopes: x = 1, y = 2 ###\n",
    "\n",
    "tree_count4 = 0\n",
    "\n",
    "x = 0\n",
    "y = 0\n",
    "slope_x = 1\n",
    "slope_y = 2\n",
    "\n",
    "len(proc_data[0])\n",
    "\n",
    "while y < len(proc_data):\n",
    "    if proc_data[y][x] == tree:\n",
    "        tree_count4 += 1\n",
    "    if (x + slope_x) > (len(proc_data[0]) - 1):\n",
    "        x = slope_x - (len(proc_data[0]) - x)\n",
    "    else:\n",
    "        x += slope_x\n",
    "    y += slope_y\n",
    "\n",
    "print(\"Trees for 1|2 \" + str(tree_count4))\n",
    "\n",
    "result = tree_count * tree_count1 * tree_count2 * tree_count3 * tree_count4\n",
    "result"
   ]
  }
 ],
 "metadata": {
  "kernelspec": {
   "display_name": "Python 3",
   "language": "python",
   "name": "python3"
  },
  "language_info": {
   "codemirror_mode": {
    "name": "ipython",
    "version": 3
   },
   "file_extension": ".py",
   "mimetype": "text/x-python",
   "name": "python",
   "nbconvert_exporter": "python",
   "pygments_lexer": "ipython3",
   "version": "3.7.3"
  }
 },
 "nbformat": 4,
 "nbformat_minor": 2
}
